{
 "cells": [
  {
   "cell_type": "markdown",
   "metadata": {},
   "source": [
    "# VAR Model for Multi Variate Forecasting time Series\n",
    "# as we predict disease type with its count gonna be in future"
   ]
  },
  {
   "cell_type": "code",
   "execution_count": 1,
   "metadata": {},
   "outputs": [],
   "source": [
    "import mysql.connector\n",
    "import pandas as pd\n",
    "import inspect\n",
    "import datetime\n",
    "import os"
   ]
  },
  {
   "cell_type": "code",
   "execution_count": 2,
   "metadata": {},
   "outputs": [],
   "source": [
    "def get_file_size(file_path):\n",
    "    size = os.path.getsize(file_path)\n",
    "    return size"
   ]
  },
  {
   "cell_type": "markdown",
   "metadata": {},
   "source": [
    "Database connections"
   ]
  },
  {
   "cell_type": "code",
   "execution_count": 3,
   "metadata": {},
   "outputs": [],
   "source": [
    "def mycon(db_name):\n",
    "    try:\n",
    "        mydb = mysql.connector.connect(host=\"192.168.45.29\", user=\"bida_analysis_view\", password=\"bida2022$\",\n",
    "                                       database=\"amrit_analysis\", auth_plugin=\"mysql_native_password\")\n",
    "        return mydb\n",
    "    except Exception as e:\n",
    "        print(e)\n",
    "        print(\"An error has been occured\")"
   ]
  },
  {
   "cell_type": "code",
   "execution_count": 4,
   "metadata": {},
   "outputs": [],
   "source": [
    "def create_parquet_file(file_name):\n",
    "    start_time = datetime.datetime.now()\n",
    "    print_process_time(start_time, inspect.stack()[0][3])\n",
    "    #mydb = mycon(\"amrit_analysis\")\n",
    "\n",
    "    # mycursor = mydb.cursor()\n",
    "    # query4 = '''SELECT * FROM amrit_analysis.all_res_of_obh_t_call_raw_data_datewise'''\n",
    "    # query2 = '''\n",
    "    # select state,rec_created_date,male as \"male\",female as \"female\",\n",
    "    # transgender,not_disclosed,lt_1_year, 1_to_5_years, 6_to_10_years,\n",
    "    # 11_to_20_years, 21_to_30_years, 31_to_40_years, 41_to_50_years,\n",
    "    # 51_to_60_years, gt_60_years\n",
    "    # from amrit_analysis.all_res_of_age_gen_t_bancall_count_datewise;\n",
    "    # '''\n",
    "    # mycursor.execute(query4)\n",
    "    # df = pd.DataFrame(mycursor.fetchall())\n",
    "    # df.columns = mycursor.column_names\n",
    "    # #print(mycursor.column_names)\n",
    "    # print(df.columns)\n",
    "    # df.drop_duplicates(inplace=True)\n",
    "    # print(df.shape)\n",
    "    print_process_time(start_time, inspect.stack()[0][3])\n",
    "    #df.to_parquet(f'{file_name}',engine='auto', compression='gzip', index=None)\n",
    "    read_parquet_file(file_name)\n",
    "    print_process_time(start_time, inspect.stack()[0][3])"
   ]
  },
  {
   "cell_type": "code",
   "execution_count": 5,
   "metadata": {},
   "outputs": [],
   "source": [
    "def read_parquet_file(file_name):\n",
    "    start_time = datetime.datetime.now()\n",
    "    convert_bytes(get_file_size(file_name), 'MB')\n",
    "    df = pd.read_parquet(f'{file_name}', engine='auto')\n",
    "    print_process_time(start_time, inspect.stack()[0][3])\n",
    "    print(df.columns)\n",
    "   # print(df.describe())\n",
    "    x=df.head()\n",
    "    #print(f\"{list(df.shape)}\")\n",
    "    #print_process_time(start_time, inspect.stack()[0][3])\n",
    "    # print(df[df['state'] == 'BH'].head())\n",
    "    # print(df[df['state'] == 'JH'].head())\n",
    "    # print(df[df['state'] == 'HP'].head())\n",
    "    # print(df[df['state'] == 'AS'].head())"
   ]
  },
  {
   "cell_type": "code",
   "execution_count": 6,
   "metadata": {},
   "outputs": [],
   "source": [
    "def convert_bytes(size, unit=None):\n",
    "    if unit == \"KB\":\n",
    "        print('File size: ' + str(round(size / 1024, 3)) + ' Kilobytes')\n",
    "    elif unit == \"MB\":\n",
    "        print('File size: ' + str(round(size / (1024 * 1024), 3)) + ' Megabytes')\n",
    "    elif unit == \"GB\":\n",
    "        print('File size: ' + str(round(size / (1024 * 1024 * 1024), 3)) + ' Gigabytes')\n",
    "    else:\n",
    "        print('File size: ' + str(size) + ' bytes')\n",
    "    return 0"
   ]
  },
  {
   "cell_type": "code",
   "execution_count": 7,
   "metadata": {},
   "outputs": [],
   "source": [
    "def print_process_time(start_time=0,func_name=\"\"):\n",
    "    print(f\"{datetime.datetime.now()-start_time} taken by {func_name}\")"
   ]
  },
  {
   "cell_type": "code",
   "execution_count": 8,
   "metadata": {},
   "outputs": [
    {
     "name": "stdout",
     "output_type": "stream",
     "text": [
      "0:00:00.247589 taken by create_parquet_file\n",
      "0:00:00.249305 taken by create_parquet_file\n",
      "File size: 99.733 Megabytes\n",
      "0:00:03.535280 taken by read_parquet_file\n",
      "Index(['state', 'date_created', 'ben_call_id', 'call_id', 'beneficiary_reg_id',\n",
      "       'beneficiary_dist_name', 'beneficiary_gender', 'disease_summary',\n",
      "       'algorithm', 'call_start_time', 'call_end_time', 'received_role_name',\n",
      "       'call_type', 'date_created_fulltime', 'da_created_on_timestamp',\n",
      "       'da_is_match', 'da_is_match_date', 'da_is_verified',\n",
      "       'da_is_verified_date', 'da_is_verified_count'],\n",
      "      dtype='object')\n",
      "0:00:03.997286 taken by create_parquet_file\n"
     ]
    }
   ],
   "source": [
    "file_name = \"D:\\\\Code_files\\\\parquet_files\\\\all_state_t_call_raw_data.parquet.gzip\"\n",
    "create_parquet_file(file_name)"
   ]
  },
  {
   "cell_type": "markdown",
   "metadata": {},
   "source": [
    "# DATA PRE-PROCESSING"
   ]
  },
  {
   "cell_type": "code",
   "execution_count": 9,
   "metadata": {},
   "outputs": [
    {
     "data": {
      "text/html": [
       "<div>\n",
       "<style scoped>\n",
       "    .dataframe tbody tr th:only-of-type {\n",
       "        vertical-align: middle;\n",
       "    }\n",
       "\n",
       "    .dataframe tbody tr th {\n",
       "        vertical-align: top;\n",
       "    }\n",
       "\n",
       "    .dataframe thead th {\n",
       "        text-align: right;\n",
       "    }\n",
       "</style>\n",
       "<table border=\"1\" class=\"dataframe\">\n",
       "  <thead>\n",
       "    <tr style=\"text-align: right;\">\n",
       "      <th></th>\n",
       "      <th>state</th>\n",
       "      <th>ben_call_id</th>\n",
       "      <th>call_id</th>\n",
       "      <th>beneficiary_reg_id</th>\n",
       "      <th>beneficiary_dist_name</th>\n",
       "      <th>beneficiary_gender</th>\n",
       "      <th>disease_summary</th>\n",
       "      <th>algorithm</th>\n",
       "      <th>call_start_time</th>\n",
       "      <th>call_end_time</th>\n",
       "      <th>received_role_name</th>\n",
       "      <th>call_type</th>\n",
       "      <th>date_created_fulltime</th>\n",
       "      <th>da_created_on_timestamp</th>\n",
       "      <th>da_is_match</th>\n",
       "      <th>da_is_match_date</th>\n",
       "      <th>da_is_verified</th>\n",
       "      <th>da_is_verified_date</th>\n",
       "      <th>da_is_verified_count</th>\n",
       "    </tr>\n",
       "    <tr>\n",
       "      <th>date_created</th>\n",
       "      <th></th>\n",
       "      <th></th>\n",
       "      <th></th>\n",
       "      <th></th>\n",
       "      <th></th>\n",
       "      <th></th>\n",
       "      <th></th>\n",
       "      <th></th>\n",
       "      <th></th>\n",
       "      <th></th>\n",
       "      <th></th>\n",
       "      <th></th>\n",
       "      <th></th>\n",
       "      <th></th>\n",
       "      <th></th>\n",
       "      <th></th>\n",
       "      <th></th>\n",
       "      <th></th>\n",
       "      <th></th>\n",
       "    </tr>\n",
       "  </thead>\n",
       "  <tbody>\n",
       "    <tr>\n",
       "      <th>2019-10-21</th>\n",
       "      <td>BH</td>\n",
       "      <td>18</td>\n",
       "      <td>1571661343.7900000000</td>\n",
       "      <td>2.0</td>\n",
       "      <td>Patna</td>\n",
       "      <td>Male</td>\n",
       "      <td>None</td>\n",
       "      <td>None</td>\n",
       "      <td>2019-10-21 18:10:01</td>\n",
       "      <td>None</td>\n",
       "      <td>HAO</td>\n",
       "      <td>Counselling Officer</td>\n",
       "      <td>2019-10-21 18:05:56</td>\n",
       "      <td>2022-08-16 21:20:05</td>\n",
       "      <td>0</td>\n",
       "      <td>0</td>\n",
       "      <td>0</td>\n",
       "      <td>0</td>\n",
       "      <td>0</td>\n",
       "    </tr>\n",
       "    <tr>\n",
       "      <th>2019-10-21</th>\n",
       "      <td>BH</td>\n",
       "      <td>18</td>\n",
       "      <td>1571661343.7900000000</td>\n",
       "      <td>2.0</td>\n",
       "      <td>Patna</td>\n",
       "      <td>Male</td>\n",
       "      <td>None</td>\n",
       "      <td>None</td>\n",
       "      <td>2019-10-21 18:10:01</td>\n",
       "      <td>None</td>\n",
       "      <td>HAO</td>\n",
       "      <td>Counselling Officer</td>\n",
       "      <td>2019-10-21 18:05:56</td>\n",
       "      <td>2022-08-16 21:34:37</td>\n",
       "      <td>0</td>\n",
       "      <td>0</td>\n",
       "      <td>0</td>\n",
       "      <td>0</td>\n",
       "      <td>0</td>\n",
       "    </tr>\n",
       "    <tr>\n",
       "      <th>2019-10-21</th>\n",
       "      <td>BH</td>\n",
       "      <td>20</td>\n",
       "      <td>1571661673.8400000000</td>\n",
       "      <td>4.0</td>\n",
       "      <td>Aurangabad</td>\n",
       "      <td>Male</td>\n",
       "      <td>None</td>\n",
       "      <td>None</td>\n",
       "      <td>2019-10-21 18:12:41</td>\n",
       "      <td>None</td>\n",
       "      <td>HAO</td>\n",
       "      <td>Counselling Officer</td>\n",
       "      <td>2019-10-21 18:11:40</td>\n",
       "      <td>2022-08-16 21:34:53</td>\n",
       "      <td>0</td>\n",
       "      <td>0</td>\n",
       "      <td>0</td>\n",
       "      <td>0</td>\n",
       "      <td>0</td>\n",
       "    </tr>\n",
       "    <tr>\n",
       "      <th>2019-10-21</th>\n",
       "      <td>BH</td>\n",
       "      <td>22</td>\n",
       "      <td>1571661809.8800000000</td>\n",
       "      <td>3.0</td>\n",
       "      <td>Aurangabad</td>\n",
       "      <td>Male</td>\n",
       "      <td>None</td>\n",
       "      <td>None</td>\n",
       "      <td>2019-10-21 18:13:28</td>\n",
       "      <td>None</td>\n",
       "      <td>HAO</td>\n",
       "      <td>Counselling Officer</td>\n",
       "      <td>2019-10-21 18:13:09</td>\n",
       "      <td>2022-08-16 21:34:53</td>\n",
       "      <td>0</td>\n",
       "      <td>0</td>\n",
       "      <td>0</td>\n",
       "      <td>0</td>\n",
       "      <td>0</td>\n",
       "    </tr>\n",
       "    <tr>\n",
       "      <th>2019-10-21</th>\n",
       "      <td>BH</td>\n",
       "      <td>23</td>\n",
       "      <td>1571661851.9000000000</td>\n",
       "      <td>4.0</td>\n",
       "      <td>Aurangabad</td>\n",
       "      <td>Male</td>\n",
       "      <td>None</td>\n",
       "      <td>None</td>\n",
       "      <td>2019-10-21 18:13:56</td>\n",
       "      <td>None</td>\n",
       "      <td>HAO</td>\n",
       "      <td>Counselling Officer</td>\n",
       "      <td>2019-10-21 18:13:37</td>\n",
       "      <td>2022-08-16 21:34:53</td>\n",
       "      <td>0</td>\n",
       "      <td>0</td>\n",
       "      <td>0</td>\n",
       "      <td>0</td>\n",
       "      <td>0</td>\n",
       "    </tr>\n",
       "  </tbody>\n",
       "</table>\n",
       "</div>"
      ],
      "text/plain": [
       "             state  ben_call_id                call_id  beneficiary_reg_id  \\\n",
       "date_created                                                                 \n",
       "2019-10-21      BH           18  1571661343.7900000000                 2.0   \n",
       "2019-10-21      BH           18  1571661343.7900000000                 2.0   \n",
       "2019-10-21      BH           20  1571661673.8400000000                 4.0   \n",
       "2019-10-21      BH           22  1571661809.8800000000                 3.0   \n",
       "2019-10-21      BH           23  1571661851.9000000000                 4.0   \n",
       "\n",
       "             beneficiary_dist_name beneficiary_gender disease_summary  \\\n",
       "date_created                                                            \n",
       "2019-10-21                   Patna               Male            None   \n",
       "2019-10-21                   Patna               Male            None   \n",
       "2019-10-21              Aurangabad               Male            None   \n",
       "2019-10-21              Aurangabad               Male            None   \n",
       "2019-10-21              Aurangabad               Male            None   \n",
       "\n",
       "             algorithm     call_start_time call_end_time received_role_name  \\\n",
       "date_created                                                                  \n",
       "2019-10-21        None 2019-10-21 18:10:01          None                HAO   \n",
       "2019-10-21        None 2019-10-21 18:10:01          None                HAO   \n",
       "2019-10-21        None 2019-10-21 18:12:41          None                HAO   \n",
       "2019-10-21        None 2019-10-21 18:13:28          None                HAO   \n",
       "2019-10-21        None 2019-10-21 18:13:56          None                HAO   \n",
       "\n",
       "                        call_type date_created_fulltime  \\\n",
       "date_created                                              \n",
       "2019-10-21    Counselling Officer   2019-10-21 18:05:56   \n",
       "2019-10-21    Counselling Officer   2019-10-21 18:05:56   \n",
       "2019-10-21    Counselling Officer   2019-10-21 18:11:40   \n",
       "2019-10-21    Counselling Officer   2019-10-21 18:13:09   \n",
       "2019-10-21    Counselling Officer   2019-10-21 18:13:37   \n",
       "\n",
       "             da_created_on_timestamp  da_is_match  da_is_match_date  \\\n",
       "date_created                                                          \n",
       "2019-10-21       2022-08-16 21:20:05            0                 0   \n",
       "2019-10-21       2022-08-16 21:34:37            0                 0   \n",
       "2019-10-21       2022-08-16 21:34:53            0                 0   \n",
       "2019-10-21       2022-08-16 21:34:53            0                 0   \n",
       "2019-10-21       2022-08-16 21:34:53            0                 0   \n",
       "\n",
       "              da_is_verified  da_is_verified_date  da_is_verified_count  \n",
       "date_created                                                             \n",
       "2019-10-21                 0                    0                     0  \n",
       "2019-10-21                 0                    0                     0  \n",
       "2019-10-21                 0                    0                     0  \n",
       "2019-10-21                 0                    0                     0  \n",
       "2019-10-21                 0                    0                     0  "
      ]
     },
     "execution_count": 9,
     "metadata": {},
     "output_type": "execute_result"
    }
   ],
   "source": [
    "df = pd.read_parquet(f'{file_name}', engine='auto')\n",
    "# print((df[df['date_created']=='2019-10-21']) & (df[df['disease_summary']=='fever']))\n",
    "df.set_index(['date_created'],inplace=True)\n",
    "df.head()"
   ]
  },
  {
   "cell_type": "code",
   "execution_count": 10,
   "metadata": {},
   "outputs": [
    {
     "data": {
      "text/plain": [
       "3828804"
      ]
     },
     "execution_count": 10,
     "metadata": {},
     "output_type": "execute_result"
    }
   ],
   "source": [
    "df['algorithm'].isnull().sum()"
   ]
  },
  {
   "cell_type": "code",
   "execution_count": 11,
   "metadata": {},
   "outputs": [
    {
     "data": {
      "text/plain": [
       "1770289"
      ]
     },
     "execution_count": 11,
     "metadata": {},
     "output_type": "execute_result"
    }
   ],
   "source": [
    "df['disease_summary'].isnull().sum()"
   ]
  },
  {
   "cell_type": "code",
   "execution_count": 12,
   "metadata": {},
   "outputs": [],
   "source": [
    "#taking a new dataFrame to Drop columns as per requirements\n",
    "df1=pd.DataFrame(df)\n",
    "#dropped 12 columns\n",
    "df1=df1.drop(columns=['da_is_verified_count','da_is_verified_date','da_is_verified','da_is_match_date','da_is_match','da_created_on_timestamp','date_created_fulltime','call_start_time','call_end_time','algorithm','beneficiary_reg_id','ben_call_id'],axis=1)"
   ]
  },
  {
   "cell_type": "code",
   "execution_count": 13,
   "metadata": {},
   "outputs": [
    {
     "data": {
      "text/plain": [
       "state                          0\n",
       "call_id                        0\n",
       "beneficiary_dist_name      26968\n",
       "beneficiary_gender         21463\n",
       "disease_summary          1770289\n",
       "received_role_name             0\n",
       "call_type                      0\n",
       "dtype: int64"
      ]
     },
     "execution_count": 13,
     "metadata": {},
     "output_type": "execute_result"
    }
   ],
   "source": [
    "df1.isnull().sum()"
   ]
  },
  {
   "cell_type": "code",
   "execution_count": 15,
   "metadata": {},
   "outputs": [
    {
     "data": {
      "text/html": [
       "<div>\n",
       "<style scoped>\n",
       "    .dataframe tbody tr th:only-of-type {\n",
       "        vertical-align: middle;\n",
       "    }\n",
       "\n",
       "    .dataframe tbody tr th {\n",
       "        vertical-align: top;\n",
       "    }\n",
       "\n",
       "    .dataframe thead th {\n",
       "        text-align: right;\n",
       "    }\n",
       "</style>\n",
       "<table border=\"1\" class=\"dataframe\">\n",
       "  <thead>\n",
       "    <tr style=\"text-align: right;\">\n",
       "      <th></th>\n",
       "      <th>state</th>\n",
       "      <th>call_id</th>\n",
       "      <th>beneficiary_dist_name</th>\n",
       "      <th>beneficiary_gender</th>\n",
       "      <th>disease_summary</th>\n",
       "      <th>received_role_name</th>\n",
       "      <th>call_type</th>\n",
       "    </tr>\n",
       "  </thead>\n",
       "  <tbody>\n",
       "    <tr>\n",
       "      <th>count</th>\n",
       "      <td>4229273</td>\n",
       "      <td>4229273</td>\n",
       "      <td>4202305</td>\n",
       "      <td>4207810</td>\n",
       "      <td>2458984</td>\n",
       "      <td>4229273</td>\n",
       "      <td>4229273</td>\n",
       "    </tr>\n",
       "    <tr>\n",
       "      <th>unique</th>\n",
       "      <td>4</td>\n",
       "      <td>3850046</td>\n",
       "      <td>109</td>\n",
       "      <td>4</td>\n",
       "      <td>50754</td>\n",
       "      <td>6</td>\n",
       "      <td>84</td>\n",
       "    </tr>\n",
       "    <tr>\n",
       "      <th>top</th>\n",
       "      <td>BH</td>\n",
       "      <td></td>\n",
       "      <td>Latehar</td>\n",
       "      <td>Male</td>\n",
       "      <td>COVID-19</td>\n",
       "      <td>HYBRID HAO</td>\n",
       "      <td>Covid 19 Vaccine related</td>\n",
       "    </tr>\n",
       "    <tr>\n",
       "      <th>freq</th>\n",
       "      <td>1552004</td>\n",
       "      <td>239</td>\n",
       "      <td>240053</td>\n",
       "      <td>3366399</td>\n",
       "      <td>1032636</td>\n",
       "      <td>3620614</td>\n",
       "      <td>855822</td>\n",
       "    </tr>\n",
       "  </tbody>\n",
       "</table>\n",
       "</div>"
      ],
      "text/plain": [
       "          state  call_id beneficiary_dist_name beneficiary_gender  \\\n",
       "count   4229273  4229273               4202305            4207810   \n",
       "unique        4  3850046                   109                  4   \n",
       "top          BH                        Latehar               Male   \n",
       "freq    1552004      239                240053            3366399   \n",
       "\n",
       "       disease_summary received_role_name                 call_type  \n",
       "count          2458984            4229273                   4229273  \n",
       "unique           50754                  6                        84  \n",
       "top           COVID-19         HYBRID HAO  Covid 19 Vaccine related  \n",
       "freq           1032636            3620614                    855822  "
      ]
     },
     "execution_count": 15,
     "metadata": {},
     "output_type": "execute_result"
    }
   ],
   "source": [
    "df1.describe()"
   ]
  },
  {
   "cell_type": "code",
   "execution_count": 17,
   "metadata": {},
   "outputs": [
    {
     "data": {
      "text/plain": [
       "array(['Male', 'Female', None, 'Not disclosed', 'Transgender'],\n",
       "      dtype=object)"
      ]
     },
     "execution_count": 17,
     "metadata": {},
     "output_type": "execute_result"
    }
   ],
   "source": [
    "df1['beneficiary_gender'].unique()"
   ]
  },
  {
   "cell_type": "code",
   "execution_count": 19,
   "metadata": {},
   "outputs": [
    {
     "data": {
      "text/html": [
       "<div>\n",
       "<style scoped>\n",
       "    .dataframe tbody tr th:only-of-type {\n",
       "        vertical-align: middle;\n",
       "    }\n",
       "\n",
       "    .dataframe tbody tr th {\n",
       "        vertical-align: top;\n",
       "    }\n",
       "\n",
       "    .dataframe thead th {\n",
       "        text-align: right;\n",
       "    }\n",
       "</style>\n",
       "<table border=\"1\" class=\"dataframe\">\n",
       "  <thead>\n",
       "    <tr style=\"text-align: right;\">\n",
       "      <th></th>\n",
       "      <th>state</th>\n",
       "      <th>call_id</th>\n",
       "      <th>beneficiary_dist_name</th>\n",
       "      <th>beneficiary_gender</th>\n",
       "      <th>disease_summary</th>\n",
       "      <th>received_role_name</th>\n",
       "      <th>call_type</th>\n",
       "    </tr>\n",
       "    <tr>\n",
       "      <th>date_created</th>\n",
       "      <th></th>\n",
       "      <th></th>\n",
       "      <th></th>\n",
       "      <th></th>\n",
       "      <th></th>\n",
       "      <th></th>\n",
       "      <th></th>\n",
       "    </tr>\n",
       "  </thead>\n",
       "  <tbody>\n",
       "    <tr>\n",
       "      <th>2019-10-21</th>\n",
       "      <td>BH</td>\n",
       "      <td>1571661343.7900000000</td>\n",
       "      <td>Patna</td>\n",
       "      <td>Male</td>\n",
       "      <td>None</td>\n",
       "      <td>HAO</td>\n",
       "      <td>Counselling Officer</td>\n",
       "    </tr>\n",
       "    <tr>\n",
       "      <th>2019-10-21</th>\n",
       "      <td>BH</td>\n",
       "      <td>1571661343.7900000000</td>\n",
       "      <td>Patna</td>\n",
       "      <td>Male</td>\n",
       "      <td>None</td>\n",
       "      <td>HAO</td>\n",
       "      <td>Counselling Officer</td>\n",
       "    </tr>\n",
       "    <tr>\n",
       "      <th>2019-10-21</th>\n",
       "      <td>BH</td>\n",
       "      <td>1571661673.8400000000</td>\n",
       "      <td>Aurangabad</td>\n",
       "      <td>Male</td>\n",
       "      <td>None</td>\n",
       "      <td>HAO</td>\n",
       "      <td>Counselling Officer</td>\n",
       "    </tr>\n",
       "    <tr>\n",
       "      <th>2019-10-21</th>\n",
       "      <td>BH</td>\n",
       "      <td>1571661809.8800000000</td>\n",
       "      <td>Aurangabad</td>\n",
       "      <td>Male</td>\n",
       "      <td>None</td>\n",
       "      <td>HAO</td>\n",
       "      <td>Counselling Officer</td>\n",
       "    </tr>\n",
       "    <tr>\n",
       "      <th>2019-10-21</th>\n",
       "      <td>BH</td>\n",
       "      <td>1571661851.9000000000</td>\n",
       "      <td>Aurangabad</td>\n",
       "      <td>Male</td>\n",
       "      <td>None</td>\n",
       "      <td>HAO</td>\n",
       "      <td>Counselling Officer</td>\n",
       "    </tr>\n",
       "  </tbody>\n",
       "</table>\n",
       "</div>"
      ],
      "text/plain": [
       "             state                call_id beneficiary_dist_name  \\\n",
       "date_created                                                      \n",
       "2019-10-21      BH  1571661343.7900000000                 Patna   \n",
       "2019-10-21      BH  1571661343.7900000000                 Patna   \n",
       "2019-10-21      BH  1571661673.8400000000            Aurangabad   \n",
       "2019-10-21      BH  1571661809.8800000000            Aurangabad   \n",
       "2019-10-21      BH  1571661851.9000000000            Aurangabad   \n",
       "\n",
       "             beneficiary_gender disease_summary received_role_name  \\\n",
       "date_created                                                         \n",
       "2019-10-21                 Male            None                HAO   \n",
       "2019-10-21                 Male            None                HAO   \n",
       "2019-10-21                 Male            None                HAO   \n",
       "2019-10-21                 Male            None                HAO   \n",
       "2019-10-21                 Male            None                HAO   \n",
       "\n",
       "                        call_type  \n",
       "date_created                       \n",
       "2019-10-21    Counselling Officer  \n",
       "2019-10-21    Counselling Officer  \n",
       "2019-10-21    Counselling Officer  \n",
       "2019-10-21    Counselling Officer  \n",
       "2019-10-21    Counselling Officer  "
      ]
     },
     "execution_count": 19,
     "metadata": {},
     "output_type": "execute_result"
    }
   ],
   "source": [
    "df1.head()"
   ]
  },
  {
   "cell_type": "code",
   "execution_count": 27,
   "metadata": {},
   "outputs": [
    {
     "data": {
      "text/plain": [
       "array(['HAO', 'CO', 'MO', 'HYBRID HAO', 'SIO', 'Psychologist MH'],\n",
       "      dtype=object)"
      ]
     },
     "execution_count": 27,
     "metadata": {},
     "output_type": "execute_result"
    }
   ],
   "source": [
    "df1['received_role_name'].unique()"
   ]
  },
  {
   "cell_type": "code",
   "execution_count": null,
   "metadata": {},
   "outputs": [],
   "source": [
    "empty=df1[(df1['disease_summary']=='')].index\n",
    "len(empty)"
   ]
  },
  {
   "cell_type": "code",
   "execution_count": null,
   "metadata": {},
   "outputs": [],
   "source": []
  }
 ],
 "metadata": {
  "kernelspec": {
   "display_name": "Python 3 (ipykernel)",
   "language": "python",
   "name": "python3"
  },
  "language_info": {
   "codemirror_mode": {
    "name": "ipython",
    "version": 3
   },
   "file_extension": ".py",
   "mimetype": "text/x-python",
   "name": "python",
   "nbconvert_exporter": "python",
   "pygments_lexer": "ipython3",
   "version": "3.10.7"
  }
 },
 "nbformat": 4,
 "nbformat_minor": 2
}
